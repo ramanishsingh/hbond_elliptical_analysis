{
 "cells": [
  {
   "cell_type": "code",
   "execution_count": 1,
   "id": "02814ef8",
   "metadata": {},
   "outputs": [],
   "source": [
    "import numpy as np"
   ]
  },
  {
   "cell_type": "code",
   "execution_count": 2,
   "id": "87519896",
   "metadata": {},
   "outputs": [
    {
     "name": "stdout",
     "output_type": "stream",
     "text": [
      "fortran/box-1-2D-hist-0-1.dat  fortran/plot.py\tfortran/plot_test.pdf\r\n"
     ]
    }
   ],
   "source": [
    "!ls fortran/*\n"
   ]
  },
  {
   "cell_type": "code",
   "execution_count": 4,
   "id": "8fa387ae",
   "metadata": {},
   "outputs": [],
   "source": [
    "points_fortran = np.genfromtxt(\"fortran/box-1-2D-hist-0-1.dat\")"
   ]
  },
  {
   "cell_type": "code",
   "execution_count": 5,
   "id": "bed12db3",
   "metadata": {},
   "outputs": [
    {
     "data": {
      "text/plain": [
       "array([[  1.905, 130.12 ,   0.   ],\n",
       "       [  1.905, 130.38 ,   0.   ],\n",
       "       [  1.905, 130.62 ,   0.   ],\n",
       "       ...,\n",
       "       [  3.895, 179.38 ,   0.   ],\n",
       "       [  3.895, 179.62 ,   0.   ],\n",
       "       [  3.895, 179.88 ,   0.   ]])"
      ]
     },
     "execution_count": 5,
     "metadata": {},
     "output_type": "execute_result"
    }
   ],
   "source": [
    "points_fortran"
   ]
  },
  {
   "cell_type": "code",
   "execution_count": 6,
   "id": "90cac46f",
   "metadata": {},
   "outputs": [
    {
     "data": {
      "text/plain": [
       "40000"
      ]
     },
     "execution_count": 6,
     "metadata": {},
     "output_type": "execute_result"
    }
   ],
   "source": [
    "len(points_fortran)"
   ]
  },
  {
   "cell_type": "code",
   "execution_count": null,
   "id": "5390db55",
   "metadata": {},
   "outputs": [],
   "source": []
  }
 ],
 "metadata": {
  "kernelspec": {
   "display_name": "Python 3 (ipykernel)",
   "language": "python",
   "name": "python3"
  },
  "language_info": {
   "codemirror_mode": {
    "name": "ipython",
    "version": 3
   },
   "file_extension": ".py",
   "mimetype": "text/x-python",
   "name": "python",
   "nbconvert_exporter": "python",
   "pygments_lexer": "ipython3",
   "version": "3.8.10"
  }
 },
 "nbformat": 4,
 "nbformat_minor": 5
}
