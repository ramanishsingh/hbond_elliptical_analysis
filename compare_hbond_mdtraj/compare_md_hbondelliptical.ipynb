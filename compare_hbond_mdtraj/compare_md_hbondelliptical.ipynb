{
 "cells": [
  {
   "cell_type": "code",
   "execution_count": 1,
   "id": "5446ee45",
   "metadata": {},
   "outputs": [],
   "source": [
    "import sys\n",
    "sys.path.append('../')\n",
    "import mdtraj as md\n",
    "import numpy as np\n",
    "from hbond_elliptical import calualateHBMap, ellipticalFun, getGroups, create_bond_dict\n",
    "import matplotlib.pyplot as plt\n",
    "import matplotlib\n",
    "from numpy import array, array_equal, allclose\n"
   ]
  },
  {
   "cell_type": "code",
   "execution_count": 2,
   "id": "85a0e940",
   "metadata": {},
   "outputs": [],
   "source": [
    "#This function helps us find the difference between H-bonding triplets generated from mdtraj and hbond_elliptical\n",
    "def arreq_in_list(myarr, list_arrays):\n",
    "    return next((True for elem in list_arrays if array_equal(elem, myarr)), False)"
   ]
  },
  {
   "cell_type": "markdown",
   "id": "3840acbb",
   "metadata": {},
   "source": [
    "### The xyz file is box1movie1frame.xyz, we load it in mdtraj"
   ]
  },
  {
   "cell_type": "code",
   "execution_count": 3,
   "id": "176a1c1e",
   "metadata": {},
   "outputs": [],
   "source": [
    "filename = \"box1movie1frame.xyz\"\n",
    "traj = md.load(filename, top=\"init1.pdb\")\n",
    "L = 3.207 #box length in nm\n",
    "traj = md.Trajectory(\n",
    "    traj.xyz,\n",
    "    traj.top,\n",
    "    unitcell_lengths=np.tile(\n",
    "        [L, L, L], (traj.n_frames, 1)\n",
    "    ),\n",
    "    unitcell_angles=np.tile(\n",
    "        [90.0, 90.0, 90.0], (traj.n_frames, 1)\n",
    "    ),\n",
    ")\n"
   ]
  },
  {
   "cell_type": "code",
   "execution_count": 4,
   "id": "5067b1d7",
   "metadata": {},
   "outputs": [
    {
     "name": "stdout",
     "output_type": "stream",
     "text": [
      "The trajectory has 1 frame\n"
     ]
    }
   ],
   "source": [
    "print (\"The trajectory has {} frame\".format(traj.n_frames))"
   ]
  },
  {
   "cell_type": "markdown",
   "id": "04fd959e",
   "metadata": {},
   "source": [
    "### Next we need to make the selections, details can be found in the hbond_elliptical code"
   ]
  },
  {
   "cell_type": "code",
   "execution_count": 5,
   "id": "631f6dd2",
   "metadata": {},
   "outputs": [],
   "source": [
    "sel_oxygen_head = 'name OW' ; sel_hydrogen = 'name HW1 or name HW2' ; sel_oxygen_tail = 'name OW'; list_names_hydrogen = [\"HW1\", \"HW2\"] ; list_names_oxygen_head = [\"OW\"] ; list_names_oxygen_tail = [\"OW\"]"
   ]
  },
  {
   "cell_type": "markdown",
   "id": "55610d6f",
   "metadata": {},
   "source": [
    "### The pdb file did not contain any bonding info, so we are using the create_bond_traj function from hbond_elliptical"
   ]
  },
  {
   "cell_type": "code",
   "execution_count": 6,
   "id": "84aec672",
   "metadata": {},
   "outputs": [],
   "source": [
    "dictin, top= create_bond_dict(traj, sel_oxygen_head, sel_oxygen_tail, sel_hydrogen, list_names_hydrogen, list_names_oxygen_head, list_names_oxygen_tail, bonded_pdb_provided=False, max_r_bond=0.12)"
   ]
  },
  {
   "cell_type": "markdown",
   "id": "e71f1c93",
   "metadata": {},
   "source": [
    "### Next we use the baker_hubbard method from mdtraj to find the number of hydrogen bonds, and the triplets forming Hbond"
   ]
  },
  {
   "cell_type": "code",
   "execution_count": 7,
   "id": "dd5074e6",
   "metadata": {},
   "outputs": [],
   "source": [
    "md_hbond = md.baker_hubbard(traj)"
   ]
  },
  {
   "cell_type": "code",
   "execution_count": 8,
   "id": "b5015a6e",
   "metadata": {},
   "outputs": [
    {
     "name": "stdout",
     "output_type": "stream",
     "text": [
      "Number of H bonds from Baker-Hubbard method is 2108\n"
     ]
    }
   ],
   "source": [
    "print(\"Number of H bonds from Baker-Hubbard method is {}\".format(len(md_hbond)))"
   ]
  },
  {
   "cell_type": "markdown",
   "id": "439f61fa",
   "metadata": {},
   "source": [
    "### Now we use the hbond_elliptical to find the number of Hbonds"
   ]
  },
  {
   "cell_type": "code",
   "execution_count": 9,
   "id": "a12125a6",
   "metadata": {},
   "outputs": [],
   "source": [
    "\n",
    "nbins_r = 200 ; nbins_a = 200 ; r_cutoff = 0.4 ; skip_every_x_frames = 1; bonded_pdb_provided = True"
   ]
  },
  {
   "cell_type": "code",
   "execution_count": null,
   "id": "9ddfab11",
   "metadata": {},
   "outputs": [],
   "source": []
  },
  {
   "cell_type": "code",
   "execution_count": 10,
   "id": "7dac6510",
   "metadata": {},
   "outputs": [
    {
     "name": "stdout",
     "output_type": "stream",
     "text": [
      "traj as 2200 bonds\n",
      "da 0.015707963267948967\n",
      "dr 0.002\n",
      "working on 0\n"
     ]
    }
   ],
   "source": [
    "rdf_output, inter_output, map_output,hbond,hbond_time = calualateHBMap(traj, r_cutoff, nbins_r, nbins_a, skip_every_x_frames, sel_oxygen_head, sel_oxygen_tail, sel_hydrogen, list_names_hydrogen, list_names_oxygen_head, list_names_oxygen_tail, bonded_pdb_provided)"
   ]
  },
  {
   "cell_type": "code",
   "execution_count": 11,
   "id": "24ce17e6",
   "metadata": {},
   "outputs": [
    {
     "name": "stdout",
     "output_type": "stream",
     "text": [
      "Number of hbonds found from hbond_elliptical is 1996\n",
      "mdtraj predicts 112 more hbonds in the frame as compared to hbond_elliptical (1100 water molecules).\n"
     ]
    }
   ],
   "source": [
    "print(\"Number of hbonds found from hbond_elliptical is {}\".format(len(hbond)))\n",
    "print(\"mdtraj predicts {} more hbonds in the frame as compared to hbond_elliptical (1100 water molecules).\".format(len(md_hbond)-len(hbond)))"
   ]
  },
  {
   "cell_type": "code",
   "execution_count": 12,
   "id": "3e82cf5c",
   "metadata": {},
   "outputs": [],
   "source": [
    "l_md_hbond = list(md_hbond)"
   ]
  },
  {
   "cell_type": "markdown",
   "id": "99aefaaa",
   "metadata": {},
   "source": [
    "### In diff we store the triplets that were classified as a H-bond forming triplet in mdtraj but not in hbond_elliptical"
   ]
  },
  {
   "cell_type": "code",
   "execution_count": 13,
   "id": "4a376b87",
   "metadata": {},
   "outputs": [],
   "source": [
    "diff = []\n",
    "\n",
    "for elem in l_md_hbond:\n",
    "    if arreq_in_list(elem, hbond):\n",
    "        1+1\n",
    "    else:\n",
    "        diff.append(elem)"
   ]
  },
  {
   "cell_type": "code",
   "execution_count": 14,
   "id": "a4633016",
   "metadata": {},
   "outputs": [
    {
     "data": {
      "text/plain": [
       "112"
      ]
     },
     "execution_count": 14,
     "metadata": {},
     "output_type": "execute_result"
    }
   ],
   "source": [
    "len(diff)"
   ]
  },
  {
   "cell_type": "code",
   "execution_count": 15,
   "id": "0f3b8554",
   "metadata": {},
   "outputs": [],
   "source": [
    "\n",
    "coords = []\n",
    "\n",
    "for element in diff:\n",
    "    dist = md.compute_distances(traj, np.array([[element[0],element[2]]]))\n",
    "    angle = (md.compute_angles(traj, np.array([[element[0],element[1], element[2]]]))[0][0] - 1e-12)*180/np.pi\n",
    "    \n",
    "    coords.append(np.array([dist[0][0], angle]))"
   ]
  },
  {
   "cell_type": "markdown",
   "id": "3583fde4",
   "metadata": {},
   "source": [
    "### We can also visualize where those points lied w.r.t. the hbond ellipse"
   ]
  },
  {
   "cell_type": "code",
   "execution_count": 16,
   "id": "c179328f",
   "metadata": {},
   "outputs": [
    {
     "data": {
      "text/plain": [
       "<Figure size 432x288 with 0 Axes>"
      ]
     },
     "metadata": {},
     "output_type": "display_data"
    },
    {
     "data": {
      "image/png": "[encoded data removed]",
      "text/plain": [
       "<Figure size 360x216 with 1 Axes>"
      ]
     },
     "metadata": {
      "needs_background": "light"
     },
     "output_type": "display_data"
    }
   ],
   "source": [
    "plt.figure()\n",
    "cmap = plt.get_cmap('jet')\n",
    "plt.figure(figsize=(5, 3))\n",
    "plt.style.use('default')\n",
    "levels = np.linspace(0,10,11)\n",
    "#cs = plt.contourf(rdf_output[0], inter_output[0], map_output,levels = levels, cmap=cmap)\n",
    "plt.xlabel('r (nm)')\n",
    "plt.ylabel('cos(\\u03B8)')\n",
    "\n",
    "z = np.linspace(0,180/np.pi,200)\n",
    "x = np.linspace(0,0.75,100)\n",
    "x,z = np.meshgrid(x,z)\n",
    "\n",
    "ellipse = matplotlib.patches.Ellipse(\n",
    "        (0.29, 180), 0.05*2, 50*2, ec=\"magenta\", facecolor=\"none\", linewidth=3\n",
    "    )\n",
    "plt.gca().add_patch(ellipse)\n",
    "\n",
    "\n",
    "    \n",
    "plt.xlim([0.2, 0.4])\n",
    "plt.ylim([120, 180])\n",
    "for i, coord in enumerate(coords):\n",
    "    \n",
    "    plt.scatter(coord[0], coord[1])\n",
    "    #print(coord,i, diff[i], ellipticalFun(coord[0], coord[1]))\n"
   ]
  },
  {
   "cell_type": "markdown",
   "id": "04af727c",
   "metadata": {},
   "source": [
    "### The heat map for r-theta"
   ]
  },
  {
   "cell_type": "code",
   "execution_count": 17,
   "id": "82809076",
   "metadata": {},
   "outputs": [
    {
     "data": {
      "text/plain": [
       "<matplotlib.colorbar.Colorbar at 0x7f0690e1c940>"
      ]
     },
     "execution_count": 17,
     "metadata": {},
     "output_type": "execute_result"
    },
    {
     "data": {
      "text/plain": [
       "<Figure size 640x480 with 0 Axes>"
      ]
     },
     "metadata": {},
     "output_type": "display_data"
    },
    {
     "data": {
      "image/png": "[encoded data removed]",
      "text/plain": [
       "<Figure size 500x300 with 2 Axes>"
      ]
     },
     "metadata": {},
     "output_type": "display_data"
    }
   ],
   "source": [
    "plt.figure() ; cmap = plt.get_cmap('jet') ; plt.figure(figsize=(5, 3)) ; plt.style.use('default'); levels = np.linspace(1,55,10) ; cs = plt.contourf(rdf_output[0], inter_output[0]*180/np.pi, map_output,levels = levels, cmap=cmap) ; plt.xlabel('r (nm)') ; plt.ylabel('\\u03B8 (degrees)') ; plt.xlim([0.2, 0.4]) ; plt.ylim([140, 180]) ; plt.colorbar()"
   ]
  },
  {
   "cell_type": "code",
   "execution_count": null,
   "id": "a48d4bc7",
   "metadata": {},
   "outputs": [],
   "source": []
  }
 ],
 "metadata": {
  "kernelspec": {
   "display_name": "Python 3 (ipykernel)",
   "language": "python",
   "name": "python3"
  },
  "language_info": {
   "codemirror_mode": {
    "name": "ipython",
    "version": 3
   },
   "file_extension": ".py",
   "mimetype": "text/x-python",
   "name": "python",
   "nbconvert_exporter": "python",
   "pygments_lexer": "ipython3",
   "version": "3.8.10"
  }
 },
 "nbformat": 4,
 "nbformat_minor": 5
}
